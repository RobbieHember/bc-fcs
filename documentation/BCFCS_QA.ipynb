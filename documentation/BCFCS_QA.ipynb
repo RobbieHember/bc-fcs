{
 "cells": [
  {
   "cell_type": "code",
   "execution_count": 1,
   "id": "c68ee703-1320-4570-bf9e-af6ec21d6a66",
   "metadata": {},
   "outputs": [],
   "source": [
    "import numpy as np\n",
    "import pandas as pd\n",
    "import matplotlib.pyplot as plt\n",
    "import warnings\n",
    "import matplotlib\n",
    "import docx\n",
    "from IPython.display import display,HTML,Image\n",
    "from IPython.display import Markdown as md\n",
    "import graphviz\n",
    "from diagrams import Diagram,Cluster,Edge\n",
    "from diagrams import aws\n",
    "from diagrams.aws import analytics as aws_analytics\n",
    "from diagrams.aws import network as aws_network\n",
    "from diagrams.aws import compute as aws_compute\n",
    "from diagrams.aws import database as aws_database\n",
    "from diagrams.onprem import vcs\n",
    "import fcgadgets.bc1ha.bc1ha_util as u1ha\n",
    "import fcgadgets.bc1ha.bc1ha_plot as p1ha\n",
    "import fcgadgets.cbrunner.cbrun as cbr\n",
    "import fcgadgets.cbrunner.cbrun_util as cbu\n",
    "import fcgadgets.macgyver.util_general as gu\n",
    "import fcgadgets.macgyver.util_gis as gis\n",
    "import fcgadgets.macgyver.util_inventory as uinv\n",
    "import fcgadgets.macgyver.util_fcs_graphs as ufcs\n",
    "import fcgadgets.macgyver.util_fcs_qa as uqa\n",
    "import fcexplore.field_plots.Processing.psp_util as ugp\n",
    "import fcexplore.field_plots.Processing.psp_plot as pgp"
   ]
  },
  {
   "cell_type": "code",
   "execution_count": 2,
   "id": "d19e0b89-0c44-4469-93ca-7cd0b2c97ab1",
   "metadata": {},
   "outputs": [
    {
     "data": {
      "text/html": [
       "<style>.container { width:80% !important; } .output {align-items:center; }</style>"
      ],
      "text/plain": [
       "<IPython.core.display.HTML object>"
      ]
     },
     "metadata": {},
     "output_type": "display_data"
    }
   ],
   "source": [
    "# Prepare session\n",
    "warnings.filterwarnings('ignore')\n",
    "%matplotlib inline\n",
    "display(HTML(\"<style>.container { width:80% !important; } .output {align-items:center; }</style>\"))\n",
    "warnings.filterwarnings('ignore')"
   ]
  },
  {
   "cell_type": "code",
   "execution_count": 3,
   "id": "9d721e12-c063-4dfb-973d-1342ee1c8aee",
   "metadata": {},
   "outputs": [],
   "source": [
    "# Import project information\n",
    "meta=u1ha.Init('Include GPs')\n",
    "meta['Paths']['Text']={'Text':r'C:\\Users\\rhember\\OneDrive - Government of BC\\Manuscripts\\BC Forest Carbon Summary\\BC FCS 02 QA.docx'}\n",
    "meta['Graphics']['Print Figures']='Off'\n",
    "meta['Graphics']['Print Figure Path']=''"
   ]
  },
  {
   "cell_type": "code",
   "execution_count": 4,
   "id": "7c32292b-b3ab-41b8-9bce-2252702a20cd",
   "metadata": {},
   "outputs": [],
   "source": [
    "# Import BC1ha data\n",
    "gdf_prov=u1ha.Import_GDBs_ProvinceWide(meta)\n",
    "roi={'Type':'Prov','Name':'Prov'}\n",
    "meta['Graphics']['Map']['RGSF']=2 # Reduce resolution of maps to preserve memory\n",
    "roi=u1ha.DefineROI(meta,roi,gdf_prov)\n",
    "roi=u1ha.Import_Raster(meta,roi,['lc_comp1_2019'])"
   ]
  },
  {
   "cell_type": "code",
   "execution_count": 5,
   "id": "5a7babdf-0d48-48f1-8da7-81ba45c7ea86",
   "metadata": {},
   "outputs": [],
   "source": [
    "# Import field plot data\n",
    "meta,gpt,soc=ugp.ImportGroundPlotData(meta,type='Stand',include_soil='True')\n",
    "dObs_ByBGC=ugp.CalcStatsByBGCZone(meta,gpt,soc)\n",
    "dObs_ByAge=ugp.CalcStatsByAgeClass(meta,gpt)"
   ]
  },
  {
   "cell_type": "code",
   "execution_count": 6,
   "id": "aba5ac5a-447c-4bcd-8ace-b8628c097efd",
   "metadata": {},
   "outputs": [
    {
     "data": {
      "text/html": [
       "<p style=\"color:black;text-align:center;font-size:50px;padding-top:5px\">Benchmarking and Quality Assurance</p>"
      ],
      "text/plain": [
       "<IPython.core.display.HTML object>"
      ]
     },
     "metadata": {},
     "output_type": "display_data"
    },
    {
     "data": {
      "text/html": [
       "<p style=\"color:black;text-align:center;font-size:16px;padding-top:5px\">BC Forest Carbon Summary</p>"
      ],
      "text/plain": [
       "<IPython.core.display.HTML object>"
      ]
     },
     "metadata": {},
     "output_type": "display_data"
    },
    {
     "data": {
      "text/html": [
       "<p style=\"color:black;text-align:center;font-size:12px;padding-top:5px\">2023-10-21</p>"
      ],
      "text/plain": [
       "<IPython.core.display.HTML object>"
      ]
     },
     "metadata": {},
     "output_type": "display_data"
    },
    {
     "data": {
      "text/html": [
       "<p style=\"color:black;text-align:center;font-size:12px;padding-top:5px\"></p>"
      ],
      "text/plain": [
       "<IPython.core.display.HTML object>"
      ]
     },
     "metadata": {},
     "output_type": "display_data"
    },
    {
     "data": {
      "text/html": [
       "<p style=\"color:black;text-align:center;font-size:12px;padding-top:5px\"></p>"
      ],
      "text/plain": [
       "<IPython.core.display.HTML object>"
      ]
     },
     "metadata": {},
     "output_type": "display_data"
    },
    {
     "data": {
      "text/html": [
       "<h1>Preamble</h1>"
      ],
      "text/plain": [
       "<IPython.core.display.HTML object>"
      ]
     },
     "metadata": {},
     "output_type": "display_data"
    },
    {
     "data": {
      "text/html": [
       "<p style=\"color:black;padding-bottom:0px\">This document was created with <a href=\"https://jupyter.org/\">Jupyter</a> notebooks. The information can be reproduced using open-source repositories; the modelling code is located at <a href=\"https://github.com/RobbieHember/fcgadgets\">fcgadgets</a>, while the project scripts are located at <a href=\"https://github.com/RobbieHember/bcfcs\">bcfcs</a>, with reference to exploratory work located at <a href=\"https://github.com/RobbieHember/fcexplore\">fcexplore</a>. The Python code is embedded within this document, which can be hidden or unhidden by users depending on whether they seek to retrace the technical computing steps.</p>"
      ],
      "text/plain": [
       "<IPython.core.display.HTML object>"
      ]
     },
     "metadata": {},
     "output_type": "display_data"
    },
    {
     "data": {
      "text/html": [
       "<h1>Benchmark Analysis</h1>"
      ],
      "text/plain": [
       "<IPython.core.display.HTML object>"
      ]
     },
     "metadata": {},
     "output_type": "display_data"
    },
    {
     "data": {
      "text/html": [
       "<p style=\"color:black;padding-bottom:0px\">Progress towards climate change mitigation can be judged from the change in abundance of atmospheric greenhouse gases (GHGs). It is impractical, if not impossible, to set up an experiment that would directly measure the effect of human-caused forest sector activities on atmospheric GHGs. As the next-best approach, estimation methods follow a bottom-up approach that predicts change in atmospheric GHGs based on knowledge of the annual carbon balance of forest ecosystems and related carbon reservoirs. Although there are several approaches to modelling, mitigation estimates are most commonly empirical in nature, making use of representative observations where possible to capture important dynamics, and falling back on more generalized results from meta-analysis studies or mechanistic knowledge to fill the gaps. With reliance on so many different information sources, accuracy and precision are complex features that must be interpreted cautiously. As a starting place, it is important to support model calibration and validation with extensive statistical description of the underlying observations.</p>"
      ],
      "text/plain": [
       "<IPython.core.display.HTML object>"
      ]
     },
     "metadata": {},
     "output_type": "display_data"
    },
    {
     "data": {
      "text/html": [
       "<p style=\"color:black;padding-bottom:0px\">Here, we support strategic initiatives in forest management by summarizing the status, trends and variability of available observations in British Columbia (BC), Canada. The observations contribute to foundational knowledge about baseline conditions, which can lend context to targeted sampling of more intense management practices, forest degradation and areas impacted by distinct disturbance histories. For each section, we summarized key processing steps, quality assurance efforts, and basic visual description of the datasets. By describing variation by biogeoclimatic (BGC) zone, stand age (A), the observations can help forest managers understand how land use change and forest management affect atmospheric GHGs. Additional focus areas include comparison of carbon dynamics in coniferous and mixed (conifer and deciduous) stands. Finally, we described some of the key uncertainties and lay out priorities and opportunities for future improvement.</p>"
      ],
      "text/plain": [
       "<IPython.core.display.HTML object>"
      ]
     },
     "metadata": {},
     "output_type": "display_data"
    },
    {
     "data": {
      "text/html": [
       "<p style=\"color:black;padding-bottom:0px\">Comparing model predictions with observations can help modellers and audiences understand the quality of estimates. As estimates can change with advancements in data collection and compilation, it is helpful to keep track of change in model performance through the establishment of benchmarks. The concept of benchmarking model performance is widely applied, including carbon cycle science (Luo et al., 2012). Monitoring forests with field plot sampling over time can help us understand the carbon balance of forest regions. Several analyses can play a significant part in benchmarking the performance of model predictions that are used to assess mitigation of forest sector GHG emissions.</p>"
      ],
      "text/plain": [
       "<IPython.core.display.HTML object>"
      ]
     },
     "metadata": {},
     "output_type": "display_data"
    },
    {
     "data": {
      "text/html": [
       "<h2>Tree Biomass</h2>"
      ],
      "text/plain": [
       "<IPython.core.display.HTML object>"
      ]
     },
     "metadata": {},
     "output_type": "display_data"
    },
    {
     "data": {
      "text/html": [
       "<p style=\"color:black;padding-bottom:0px\">The FCS estimates come from the actual project. The model estimates represent the mean or sum of values for the 2000-2018 time period to agree with observations. The FCS simulations of tree biomass show a range of agreement with observations.</p>"
      ],
      "text/plain": [
       "<IPython.core.display.HTML object>"
      ]
     },
     "metadata": {},
     "output_type": "display_data"
    },
    {
     "data": {
      "text/html": [
       "<p style=\"color:black;padding-bottom:0px\">The FCS estimates of biomass dynamics show a range of agreement with observations.</p>"
      ],
      "text/plain": [
       "<IPython.core.display.HTML object>"
      ]
     },
     "metadata": {},
     "output_type": "display_data"
    },
    {
     "data": {
      "text/html": [
       "<p style=\"color:black;padding-bottom:0px\">The FCS estimates of gross biomass growth show a range of agreement with observations.</p>"
      ],
      "text/plain": [
       "<IPython.core.display.HTML object>"
      ]
     },
     "metadata": {},
     "output_type": "display_data"
    },
    {
     "data": {
      "text/html": [
       "<p style=\"color:black;padding-bottom:0px\">The FCS estimates of biomass loss due to mortality show a range of agreement with observations.</p>"
      ],
      "text/plain": [
       "<IPython.core.display.HTML object>"
      ]
     },
     "metadata": {},
     "output_type": "display_data"
    },
    {
     "data": {
      "text/html": [
       "<p style=\"color:black;padding-bottom:0px\">The age response of net growth.</p>"
      ],
      "text/plain": [
       "<IPython.core.display.HTML object>"
      ]
     },
     "metadata": {},
     "output_type": "display_data"
    },
    {
     "data": {
      "text/html": [
       "<p style=\"color:black;padding-bottom:0px\">The age response of gross growth and mortality.</p>"
      ],
      "text/plain": [
       "<IPython.core.display.HTML object>"
      ]
     },
     "metadata": {},
     "output_type": "display_data"
    }
   ],
   "source": [
    "txt=ufcs.ImportText(meta,'Text')\n",
    "txt=ufcs.AddParagraphs(txt,18)"
   ]
  },
  {
   "cell_type": "code",
   "execution_count": 7,
   "id": "35dc65c5-357b-4ef5-b64a-090a81df8a90",
   "metadata": {},
   "outputs": [
    {
     "data": {
      "text/html": [
       "<h2>Soil Organic Matter</h2>"
      ],
      "text/plain": [
       "<IPython.core.display.HTML object>"
      ]
     },
     "metadata": {},
     "output_type": "display_data"
    },
    {
     "data": {
      "text/html": [
       "<p style=\"color:black;padding-bottom:0px\">The.</p>"
      ],
      "text/plain": [
       "<IPython.core.display.HTML object>"
      ]
     },
     "metadata": {},
     "output_type": "display_data"
    },
    {
     "data": {
      "text/html": [
       "<h2>Total Ecosystem Carbon</h2>"
      ],
      "text/plain": [
       "<IPython.core.display.HTML object>"
      ]
     },
     "metadata": {},
     "output_type": "display_data"
    },
    {
     "data": {
      "text/html": [
       "<p style=\"color:black;padding-bottom:0px\">The.</p>"
      ],
      "text/plain": [
       "<IPython.core.display.HTML object>"
      ]
     },
     "metadata": {},
     "output_type": "display_data"
    },
    {
     "data": {
      "text/html": [
       "<h2>Net Ecosystem Exchange</h2>"
      ],
      "text/plain": [
       "<IPython.core.display.HTML object>"
      ]
     },
     "metadata": {},
     "output_type": "display_data"
    },
    {
     "data": {
      "text/html": [
       "<p style=\"color:black;padding-bottom:0px\">The.</p>"
      ],
      "text/plain": [
       "<IPython.core.display.HTML object>"
      ]
     },
     "metadata": {},
     "output_type": "display_data"
    },
    {
     "data": {
      "text/html": [
       "<h2>Response to Clearcut Harvest</h2>"
      ],
      "text/plain": [
       "<IPython.core.display.HTML object>"
      ]
     },
     "metadata": {},
     "output_type": "display_data"
    },
    {
     "data": {
      "text/html": [
       "<p style=\"color:black;padding-bottom:0px\">The.</p>"
      ],
      "text/plain": [
       "<IPython.core.display.HTML object>"
      ]
     },
     "metadata": {},
     "output_type": "display_data"
    },
    {
     "data": {
      "text/html": [
       "<h1>Discussion</h1>"
      ],
      "text/plain": [
       "<IPython.core.display.HTML object>"
      ]
     },
     "metadata": {},
     "output_type": "display_data"
    },
    {
     "data": {
      "text/html": [
       "<p style=\"color:black;padding-bottom:0px\">The focus of this study was to compile observations that contribute to estimation of forest carbon dynamics. Audiences should recognize that, in many cases, carbon pools and fluxes have often not been measured directly. Ground plots, for example, rely on allometric equations to translate measurements of tree dimensions, including diameter and height, into biomass of various tree tissues.</p>"
      ],
      "text/plain": [
       "<IPython.core.display.HTML object>"
      ]
     },
     "metadata": {},
     "output_type": "display_data"
    }
   ],
   "source": [
    "txt=ufcs.AddParagraphs(txt,10)"
   ]
  },
  {
   "cell_type": "code",
   "execution_count": 8,
   "id": "206cd0b3-67b2-4399-9750-4ada2aeb6e57",
   "metadata": {},
   "outputs": [
    {
     "data": {
      "text/html": [
       "<h1>References</h1>"
      ],
      "text/plain": [
       "<IPython.core.display.HTML object>"
      ]
     },
     "metadata": {},
     "output_type": "display_data"
    },
    {
     "data": {
      "text/html": [
       "<p style=\"color:black;padding-bottom:0px\">Brown, M., Black, T.A., Nesic, Z., Foord, V.N., Spittlehouse, D.L., Fredeen, A.L., Grant, N.J., Burton, P.J., Trofymow, J.A., 2010. Impact of mountain pine beetle on the net ecosystem production of lodgepole pine stands in British Columbia. Agricultural and Forest Meteorology 150, 254–264. https://doi.org/10.1016/j.agrformet.2009.11.008</p>"
      ],
      "text/plain": [
       "<IPython.core.display.HTML object>"
      ]
     },
     "metadata": {},
     "output_type": "display_data"
    }
   ],
   "source": [
    "txt=ufcs.AddParagraphs(txt,2)"
   ]
  },
  {
   "cell_type": "code",
   "execution_count": 9,
   "id": "a63d4605-4c8a-476c-878c-a3c366212972",
   "metadata": {},
   "outputs": [
    {
     "data": {
      "text/html": [
       "<p style=\"color:black;padding-bottom:0px\">DellaSala, D.A., Keith, H., Sheehan, T., Strittholt, J., Mackey, B., Connolly, M., Werner, J.R., Fredeen, A.L., 2022. Estimating carbon stocks and stock changes in Interior Wetbelt forests of British Columbia, Canada. Ecosphere 13, e4020. https://doi.org/10.1002/ecs2.4020</p>"
      ],
      "text/plain": [
       "<IPython.core.display.HTML object>"
      ]
     },
     "metadata": {},
     "output_type": "display_data"
    },
    {
     "data": {
      "text/html": [
       "<p style=\"color:black;padding-bottom:0px\">Hember, R.A., Kurz, W.A., Metsaranta, J.M., Black, T.A., Guy, R.D., Coops, N.C., 2012. Accelerating regrowth of temperate-maritime forests due to environmental change. Global Change Biology 18, 2026–2040. https://doi.org/10.1111/j.1365-2486.2012.02669.x</p>"
      ],
      "text/plain": [
       "<IPython.core.display.HTML object>"
      ]
     },
     "metadata": {},
     "output_type": "display_data"
    }
   ],
   "source": [
    "txt=ufcs.AddParagraphs(txt,2)"
   ]
  },
  {
   "cell_type": "code",
   "execution_count": 10,
   "id": "0b8f5764-e8a7-40b5-8a2c-59f9de690cd8",
   "metadata": {},
   "outputs": [
    {
     "data": {
      "text/html": [
       "<p style=\"color:black;padding-bottom:0px\">Hogg, E., Brandt, J., Michaellian, M., 2008. Impacts of a regional drought on the productivity, dieback, and biomass of western Canadian aspen forests. Canadian Journal of Forest Research 38, 1373–1384. https://doi.org/10.1139/X08-001</p>"
      ],
      "text/plain": [
       "<IPython.core.display.HTML object>"
      ]
     },
     "metadata": {},
     "output_type": "display_data"
    },
    {
     "data": {
      "text/html": [
       "<p style=\"color:black;padding-bottom:0px\">Hoover, C.M., Smith, J.E., 2023. Aboveground live tree carbon stock and change in forests of conterminous United States: influence of stand age. Carbon Balance and Management 18, 7. https://doi.org/10.1186/s13021-023-00227-z</p>"
      ],
      "text/plain": [
       "<IPython.core.display.HTML object>"
      ]
     },
     "metadata": {},
     "output_type": "display_data"
    }
   ],
   "source": [
    "txt=ufcs.AddParagraphs(txt,2)"
   ]
  },
  {
   "cell_type": "code",
   "execution_count": 11,
   "id": "6a314ec8-9eb2-41e0-824d-beaa842d1db6",
   "metadata": {},
   "outputs": [
    {
     "data": {
      "text/html": [
       "<p style=\"color:black;padding-bottom:0px\">Houghton, R.A., Castanho, A., 2023. Annual emissions of carbon from land use, land-use change, and forestry from 1850 to 2020. Earth System Science Data 15, 2025–2054. https://doi.org/10.5194/essd-15-2025-2023</p>"
      ],
      "text/plain": [
       "<IPython.core.display.HTML object>"
      ]
     },
     "metadata": {},
     "output_type": "display_data"
    },
    {
     "data": {
      "text/html": [
       "<p style=\"color:black;padding-bottom:0px\">Kozak, A., 1988. A variable-exponent taper equation. Can. J. For. Res. 18, 1363–1368. https://doi.org/10.1139/x88-213</p>"
      ],
      "text/plain": [
       "<IPython.core.display.HTML object>"
      ]
     },
     "metadata": {},
     "output_type": "display_data"
    }
   ],
   "source": [
    "txt=ufcs.AddParagraphs(txt,2)"
   ]
  },
  {
   "cell_type": "code",
   "execution_count": 12,
   "id": "0976b9e5-1d60-44e6-bc2f-dd32f395af91",
   "metadata": {},
   "outputs": [
    {
     "data": {
      "text/html": [
       "<p style=\"color:black;padding-bottom:0px\">Kurz, W.A., Dymond, C.C., White, T.M., Stinson, G., Shaw, C.H., Rampley, G.J., Smyth, C., Simpson, B.N., Neilson, E.T., Trofymow, J.A., Metsaranta, J., Apps, M.J., 2009. CBM-CFS3: a model of carbon-dynamics in forestry and land-use change implementing IPCC standards. Ecological Modelling 220, 480–504.</p>"
      ],
      "text/plain": [
       "<IPython.core.display.HTML object>"
      ]
     },
     "metadata": {},
     "output_type": "display_data"
    },
    {
     "data": {
      "text/html": [
       "<p style=\"color:black;padding-bottom:0px\">Lambert, M.C., Ung, C.H., Raulier, F., 2005. Canadian national tree aboveground biomass equations. Canadian Journal of Forest Research 35, 1996–2018.</p>"
      ],
      "text/plain": [
       "<IPython.core.display.HTML object>"
      ]
     },
     "metadata": {},
     "output_type": "display_data"
    }
   ],
   "source": [
    "txt=ufcs.AddParagraphs(txt,2)"
   ]
  },
  {
   "cell_type": "code",
   "execution_count": 13,
   "id": "2d50b778-4de9-4ca1-baf6-8d1bc99c0348",
   "metadata": {},
   "outputs": [
    {
     "data": {
      "text/html": [
       "<p style=\"color:black;padding-bottom:0px\">Lamlom, S.H., Savidge, R.A., 2003. A reassessment of carbon content in wood: variation within and between 41 North American species. Biomass and Bioenergy 25, 381–388. https://doi.org/10.1016/S0961-9534(03)00033-3</p>"
      ],
      "text/plain": [
       "<IPython.core.display.HTML object>"
      ]
     },
     "metadata": {},
     "output_type": "display_data"
    },
    {
     "data": {
      "text/html": [
       "<p style=\"color:black;padding-bottom:0px\">Luo, Y.Q., Randerson, J.T., Abramowitz, G., Bacour, C., Blyth, E., Carvalhais, N., Ciais, P., Dalmonech, D., Fisher, J.B., Fisher, R., Friedlingstein, P., Hibbard, K., Hoffman, F., Huntzinger, D., Jones, C.D., Koven, C., Lawrence, D., Li, D.J., Mahecha, M., Niu, S.L., Norby, R., Piao, S.L., Qi, X., Peylin, P., Prentice, I.C., Riley, W., Reichstein, M., Schwalm, C., Wang, Y.P., Xia, J.Y., Zaehle, S., Zhou, X.H., 2012. A framework for benchmarking land models. Biogeosciences 9, 3857–3874. https://doi.org/10.5194/bg-9-3857-2012</p>"
      ],
      "text/plain": [
       "<IPython.core.display.HTML object>"
      ]
     },
     "metadata": {},
     "output_type": "display_data"
    }
   ],
   "source": [
    "txt=ufcs.AddParagraphs(txt,2)"
   ]
  },
  {
   "cell_type": "code",
   "execution_count": 14,
   "id": "97fa7240-182f-425b-8019-76e5c0a61e41",
   "metadata": {},
   "outputs": [
    {
     "data": {
      "text/html": [
       "<p style=\"color:black;padding-bottom:0px\">Shaw, C.H., Hilger, A.B., Metsaranta, J., Kurz, W.A., Russo, G., Eichel, F., Stinson, G., Smyth, C., Filiatrault, M., 2014. Evaluation of simulated estimates of forest ecosystem carbon stocks using ground plot data from Canada’s National Forest Inventory. Ecological Modelling 272, 323–347.</p>"
      ],
      "text/plain": [
       "<IPython.core.display.HTML object>"
      ]
     },
     "metadata": {},
     "output_type": "display_data"
    },
    {
     "data": {
      "text/html": [
       "<p style=\"color:black;padding-bottom:0px\">Ung, C., Bernier, P., Guo, X., 2008. Canadian national biomass equations: new parameter estimates that include British Columbia data. Canadian Journal of Forest Research 38, 1123–1132. https://doi.org/10.1139/X07-224</p>"
      ],
      "text/plain": [
       "<IPython.core.display.HTML object>"
      ]
     },
     "metadata": {},
     "output_type": "display_data"
    }
   ],
   "source": [
    "txt=ufcs.AddParagraphs(txt,2)"
   ]
  },
  {
   "cell_type": "code",
   "execution_count": 15,
   "id": "29cb3537-b79e-4ade-8e95-90cae7882e06",
   "metadata": {},
   "outputs": [
    {
     "data": {
      "text/html": [
       "<p style=\"color:black;padding-bottom:0px\"></p>"
      ],
      "text/plain": [
       "<IPython.core.display.HTML object>"
      ]
     },
     "metadata": {},
     "output_type": "display_data"
    },
    {
     "data": {
      "text/html": [
       "<p style=\"color:black;padding-bottom:0px\"></p>"
      ],
      "text/plain": [
       "<IPython.core.display.HTML object>"
      ]
     },
     "metadata": {},
     "output_type": "display_data"
    }
   ],
   "source": [
    "txt=ufcs.AddParagraphs(txt,2)"
   ]
  },
  {
   "cell_type": "code",
   "execution_count": 16,
   "id": "3936f3e9-effb-4b2c-8a32-62312d3bf84f",
   "metadata": {},
   "outputs": [
    {
     "data": {
      "text/html": [
       "<p style=\"color:black;padding-bottom:0px\"></p>"
      ],
      "text/plain": [
       "<IPython.core.display.HTML object>"
      ]
     },
     "metadata": {},
     "output_type": "display_data"
    },
    {
     "ename": "IndexError",
     "evalue": "list index out of range",
     "output_type": "error",
     "traceback": [
      "\u001b[1;31m---------------------------------------------------------------------------\u001b[0m",
      "\u001b[1;31mIndexError\u001b[0m                                Traceback (most recent call last)",
      "Cell \u001b[1;32mIn[16], line 1\u001b[0m\n\u001b[1;32m----> 1\u001b[0m txt\u001b[38;5;241m=\u001b[39m\u001b[43mufcs\u001b[49m\u001b[38;5;241;43m.\u001b[39;49m\u001b[43mAddParagraphs\u001b[49m\u001b[43m(\u001b[49m\u001b[43mtxt\u001b[49m\u001b[43m,\u001b[49m\u001b[38;5;241;43m2\u001b[39;49m\u001b[43m)\u001b[49m\n",
      "File \u001b[1;32mG:\\My Drive\\Code_Python\\fcgadgets\\macgyver\\util_fcs_graphs.py:2192\u001b[0m, in \u001b[0;36mAddParagraphs\u001b[1;34m(txt, c)\u001b[0m\n\u001b[0;32m   2190\u001b[0m \u001b[38;5;28;01mdef\u001b[39;00m \u001b[38;5;21mAddParagraphs\u001b[39m(txt,c):\n\u001b[0;32m   2191\u001b[0m \t\u001b[38;5;28;01mfor\u001b[39;00m i \u001b[38;5;129;01min\u001b[39;00m \u001b[38;5;28mrange\u001b[39m(txt[\u001b[38;5;124m'\u001b[39m\u001b[38;5;124mCounter\u001b[39m\u001b[38;5;124m'\u001b[39m],txt[\u001b[38;5;124m'\u001b[39m\u001b[38;5;124mCounter\u001b[39m\u001b[38;5;124m'\u001b[39m]\u001b[38;5;241m+\u001b[39mc):\t\t\n\u001b[1;32m-> 2192\u001b[0m \t\t\u001b[38;5;28;01mif\u001b[39;00m \u001b[43mtxt\u001b[49m\u001b[43m[\u001b[49m\u001b[38;5;124;43m'\u001b[39;49m\u001b[38;5;124;43mstyle\u001b[39;49m\u001b[38;5;124;43m'\u001b[39;49m\u001b[43m]\u001b[49m\u001b[43m[\u001b[49m\u001b[43mi\u001b[49m\u001b[43m]\u001b[49m\u001b[38;5;241m==\u001b[39m\u001b[38;5;124m'\u001b[39m\u001b[38;5;124mTitle\u001b[39m\u001b[38;5;124m'\u001b[39m:\n\u001b[0;32m   2193\u001b[0m \t\t\ttxt0\u001b[38;5;241m=\u001b[39m\u001b[38;5;124m'''\u001b[39m\u001b[38;5;124m<p style=\u001b[39m\u001b[38;5;124m\"\u001b[39m\u001b[38;5;124mcolor:black;text-align:center;font-size:50px;padding-top:5px\u001b[39m\u001b[38;5;124m\"\u001b[39m\u001b[38;5;124m>\u001b[39m\u001b[38;5;124m'''\u001b[39m \u001b[38;5;241m+\u001b[39m txt[\u001b[38;5;124m'\u001b[39m\u001b[38;5;124mbody\u001b[39m\u001b[38;5;124m'\u001b[39m][i] \u001b[38;5;241m+\u001b[39m \u001b[38;5;124m'\u001b[39m\u001b[38;5;124m</p>\u001b[39m\u001b[38;5;124m'\u001b[39m\n\u001b[0;32m   2194\u001b[0m \t\t\u001b[38;5;28;01melif\u001b[39;00m txt[\u001b[38;5;124m'\u001b[39m\u001b[38;5;124mstyle\u001b[39m\u001b[38;5;124m'\u001b[39m][i]\u001b[38;5;241m==\u001b[39m\u001b[38;5;124m'\u001b[39m\u001b[38;5;124mSubtitle\u001b[39m\u001b[38;5;124m'\u001b[39m:\n",
      "\u001b[1;31mIndexError\u001b[0m: list index out of range"
     ]
    }
   ],
   "source": [
    "txt=ufcs.AddParagraphs(txt,2)"
   ]
  },
  {
   "cell_type": "code",
   "execution_count": null,
   "id": "53183bf1-33f4-4e91-ae9c-1fc4117468b8",
   "metadata": {},
   "outputs": [],
   "source": [
    "txt=ufcs.AddParagraphs(txt,4)"
   ]
  },
  {
   "cell_type": "code",
   "execution_count": null,
   "id": "0fffe913-969e-4728-96f8-90fee1ed833f",
   "metadata": {},
   "outputs": [],
   "source": [
    "# Import data from BCFCS actual project\n",
    "pNamA='BCFCS_Act'\n",
    "pthA=r'C:\\Data\\BCFCS\\BCFCS_Act\\Inputs\\Metadata.pkl'\n",
    "metaA=gu.ipickle(pthA)\n",
    "tvA=np.arange(metaA[pNamA]['Project']['Year Start Saving'],metaA[pNamA]['Project']['Year End']+1,1)\n",
    "mosA=cbu.Import_MOS_ByScnAndStrata_GHGEcon_FromPoints(metaA,pNamA)\n",
    "lsatA=gu.ipickle(metaA['Paths'][pNamA]['Data'] + '\\\\Inputs\\\\lsat.pkl')\n",
    "nPS='All'; iPS=np.where(metaA[pNamA]['Project']['Strata']['Project Type']['Unique CD']==nPS)[0][0]\n",
    "nSS='All'; iSS=np.where(metaA[pNamA]['Project']['Strata']['Spatial']['Unique CD']==nSS)[0][0]\n",
    "nYS='All'; iYS=np.where(metaA[pNamA]['Project']['Strata']['Year']['Unique CD']==nYS)[0][0]\n",
    "iT=np.where( (tvA>=1800) & (tvA<=2150) )[0]\n",
    "dMod_ByBGC=gu.ipickle(metaA['Paths'][pNamA]['Data'] + '\\\\Outputs\\\\MosByBGC.pkl')\n",
    "dMod_ByAge=gu.ipickle(metaA['Paths'][pNamA]['Data'] + '\\\\Outputs\\\\MosByAgeAndRegion.pkl')"
   ]
  },
  {
   "cell_type": "code",
   "execution_count": null,
   "id": "e54cbced-4eb8-4ae2-acb0-46ce9dba47ec",
   "metadata": {},
   "outputs": [],
   "source": [
    "uqa.QA_FullCompareBiomassByBGC_CN(metaA,pNamA,tvA,dObs_ByBGC,dMod_ByBGC); plt.show(); \n",
    "meta=ufcs.FigureCaption(meta,'Comparison of observed and predicted average tree biomass stratified by BGC zone.')"
   ]
  },
  {
   "cell_type": "code",
   "execution_count": null,
   "id": "26ecf0de-f692-48e7-a4cc-e7ac316d58e8",
   "metadata": {},
   "outputs": [],
   "source": [
    "txt=ufcs.AddParagraphs(txt,2)"
   ]
  },
  {
   "cell_type": "code",
   "execution_count": null,
   "id": "7dfcc04f-a586-4569-8118-b3064dc54146",
   "metadata": {},
   "outputs": [],
   "source": [
    "uqa.QA_FullCompareGrowthGrossByBGC_CN(metaA,pNamA,tvA,dObs_ByBGC,dMod_ByBGC); plt.show(); \n",
    "meta=ufcs.FigureCaption(meta,'Comparison of observed and predicted gross growth by BGC zone.')"
   ]
  },
  {
   "cell_type": "code",
   "execution_count": null,
   "id": "fbf82451-5d59-4e46-b01e-01a2425abfa2",
   "metadata": {},
   "outputs": [],
   "source": [
    "txt=ufcs.AddParagraphs(txt,2)"
   ]
  },
  {
   "cell_type": "code",
   "execution_count": null,
   "id": "278b4b1b-857f-4d19-aa6c-fa1d9972b462",
   "metadata": {},
   "outputs": [],
   "source": [
    "uqa.QA_FullCompareMortalityByBGC_CN(metaA,pNamA,tvA,dObs_ByBGC,dMod_ByBGC); plt.show(); \n",
    "meta=ufcs.FigureCaption(meta,'Comparison of observed and predicted biomass loss due to mortality by BGC zone.')"
   ]
  },
  {
   "cell_type": "code",
   "execution_count": null,
   "id": "98747be5-80ae-4765-a85d-c2fab9b8078b",
   "metadata": {},
   "outputs": [],
   "source": [
    "uqa.QA_FullCompareGrowthNetByBGC_CN(metaA,pNamA,tvA,dObs_ByBGC,dMod_ByBGC); plt.show(); \n",
    "meta=ufcs.FigureCaption(meta,'Comparison of observed and predicted net biomass growth by BGC zone.')"
   ]
  },
  {
   "cell_type": "code",
   "execution_count": null,
   "id": "e26ab0ec-9942-4df3-b58e-6264271678f5",
   "metadata": {},
   "outputs": [],
   "source": [
    "uqa.QA_FullCompareSOCByBGC(metaA,pNamA,tvA,dObs_ByBGC,dMod_ByBGC); plt.show(); \n",
    "meta=ufcs.FigureCaption(meta,'Comparison of observed and predicted soil carbon stocks.')"
   ]
  },
  {
   "cell_type": "code",
   "execution_count": null,
   "id": "ba3b39a1-69fe-4949-963f-0cb5f305c3d2",
   "metadata": {},
   "outputs": [],
   "source": [
    "pgp.GP_TEC_ByBGC_CN(meta,gpt,dObs_ByBGC); plt.show(); \n",
    "meta=ufcs.FigureCaption(meta,'Comparison of observed and predicted average tree biomass stratified by BGC zone.')"
   ]
  },
  {
   "cell_type": "code",
   "execution_count": null,
   "id": "4557cfdc-a83a-437c-9f88-6ce45cb1d145",
   "metadata": {},
   "outputs": [],
   "source": [
    "txt=ufcs.AddParagraphs(txt,2)"
   ]
  },
  {
   "cell_type": "code",
   "execution_count": null,
   "id": "867572d5-ba30-4d4f-b883-801b3038b78b",
   "metadata": {},
   "outputs": [],
   "source": [
    "uqa.QA_FullComparison_AgeResponsesBiomassAndNetGrowth_ByReg_CNY(metaA,pNamA,dObs_ByAge,dMod_ByAge); plt.show(); \n",
    "meta=ufcs.FigureCaption(meta,'Comparison of observed and predicted biomass loss due to mortality by BGC zone.')"
   ]
  },
  {
   "cell_type": "code",
   "execution_count": null,
   "id": "acfe12e0-05db-4b0c-b9bb-e2c6ae3df581",
   "metadata": {},
   "outputs": [],
   "source": [
    "txt=ufcs.AddParagraphs(txt,2)"
   ]
  },
  {
   "cell_type": "code",
   "execution_count": null,
   "id": "2ad5a243-8326-48c3-8304-d7b283bc0ff0",
   "metadata": {},
   "outputs": [],
   "source": [
    "uqa.QA_FullComparison_AgeResponsesGrossGrowthAndMortality_ByReg_CNY(metaA,pNamA,dObs_ByAge,dMod_ByAge); plt.show(); \n",
    "meta=ufcs.FigureCaption(meta,'Comparison of observed and predicted biomass loss due to mortality by BGC zone.')"
   ]
  },
  {
   "cell_type": "code",
   "execution_count": null,
   "id": "a9515522-5112-402b-9a1b-b378ea37c190",
   "metadata": {},
   "outputs": [],
   "source": [
    "txt=ufcs.AddParagraphs(txt,12)"
   ]
  },
  {
   "cell_type": "code",
   "execution_count": null,
   "id": "967432b9-b4df-438d-ac05-fa0a68205eb5",
   "metadata": {},
   "outputs": [],
   "source": []
  },
  {
   "cell_type": "code",
   "execution_count": null,
   "id": "5366adff-73d4-4f59-ade4-887d7e779cb3",
   "metadata": {},
   "outputs": [],
   "source": []
  },
  {
   "cell_type": "code",
   "execution_count": null,
   "id": "41b36635-5cb6-425e-932c-96a1195f92eb",
   "metadata": {},
   "outputs": [],
   "source": []
  }
 ],
 "metadata": {
  "kernelspec": {
   "display_name": "Python 3 (ipykernel)",
   "language": "python",
   "name": "python3"
  },
  "language_info": {
   "codemirror_mode": {
    "name": "ipython",
    "version": 3
   },
   "file_extension": ".py",
   "mimetype": "text/x-python",
   "name": "python",
   "nbconvert_exporter": "python",
   "pygments_lexer": "ipython3",
   "version": "3.11.6"
  }
 },
 "nbformat": 4,
 "nbformat_minor": 5
}
